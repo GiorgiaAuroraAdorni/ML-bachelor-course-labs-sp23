{
  "cells": [
    {
      "cell_type": "markdown",
      "metadata": {
        "id": "view-in-github"
      },
      "source": [
        "<a href=\"https://colab.research.google.com/drive/1HqUq-uQBg8l8ItXakEAsE7TT51A7LHn-?usp=sharing\" target=\"_parent\"><img src=\"https://colab.research.google.com/assets/colab-badge.svg\" alt=\"Open In Colab\"/></a>"
      ]
    },
    {
      "cell_type": "markdown",
      "metadata": {
        "id": "kUod4PhQEUz1"
      },
      "source": [
        "# Machine Learning SP 2022/2023\n",
        "\n",
        "- Prof. Cesare Alippi\n",
        "- Giorgia Adorni ([`giorgia.adorni@usi.ch`](mailto:giorgia.adorni@usi.ch))<br>\n",
        "- Fatima Ezzeddine ([`fatima.ezzeddine@usi.ch`](mailto:fatima.ezzeddine@usi.ch))<br>\n",
        "- Alessandro Manenti ([`alessandro.manenti@usi.ch`](mailto:alessandro.manenti@usi.ch))\n",
        "\n",
        "---\n",
        "\n",
        "# Lab 00: Intro to Python and NumPy\n",
        "\n",
        "![alt text](https://www.python.org/static/community_logos/python-logo-master-v3-TM.png)\n",
        "\n",
        "Among the most important things that you should learn from the beginning about Python language is that:\n",
        "\n",
        "- Python is interpreted,\n",
        "- Python is dynamically typed,\n",
        "- indentation matters.\n",
        "\n",
        "Python acts as a high-level interface to a low-level interpreter written in C, and is built for fast prototyping and readable code.\n",
        "The fact that the Python is interpreted, makes it less performant than compiled languages. However, programmers can build extensions in C and move high-load functions to external, compiled modules. \n",
        "\n",
        "In this course, we will use Python for all assignments, so make sure to familiarize with its syntax as soon as possible.\n",
        "Since Python is so simple and flexible, it shouldn't take you more than a week to get the basics down. \n",
        "\n",
        "Let's see some examples.\n"
      ]
    },
    {
      "cell_type": "code",
      "execution_count": null,
      "metadata": {
        "id": "nUqVTs3aJICO",
        "outputId": "caf17bb1-4f36-490c-bf84-a94de622322a"
      },
      "outputs": [
        {
          "name": "stdout",
          "output_type": "stream",
          "text": [
            "This is how you can print a string to stdout\n"
          ]
        }
      ],
      "source": [
        "# This is an inline comment. Anything after # is ignored by the interpreter\n",
        "\n",
        "a = 1          # Variable assignment\n",
        "b = 'string'   # This is a string\n",
        "c = 3.2        # This is a float\n",
        "d = True       # This is a bool\n",
        "e = [1, 2, 3]  # This is a list of integers\n",
        "g = (1, 2, 3)  # Tuples are immutable lists (can't be modified)\n",
        "f = {'a': 1}   # Hashmaps in Python are called `dictionaries`\n",
        "h = None       # This is a special object, equivalent to null in Java\n",
        "\n",
        "print('This is how you can print a string to stdout')"
      ]
    },
    {
      "cell_type": "markdown",
      "metadata": {
        "id": "leVVvmzGKzns"
      },
      "source": [
        "### More on data structures"
      ]
    },
    {
      "cell_type": "code",
      "execution_count": null,
      "metadata": {
        "id": "WouHzi0fKsDO",
        "outputId": "8ee10be1-5fd9-4543-ddb5-7c9bbbdc7692"
      },
      "outputs": [
        {
          "name": "stdout",
          "output_type": "stream",
          "text": [
            "['a', 'b', 5]\n",
            "[['a', 'b', 5], 6]\n",
            "{'a': 1, 123: 'onetwothree'}\n"
          ]
        }
      ],
      "source": [
        "i = [1, 2.0, ['a', 'b', 5], 6]  # This list contains mixed-type elements\n",
        "print(i[2])                     # This is how you access a data struct\n",
        "print(i[2:4])                   # Lists and tuples support slicing (start inclusive, end exclusive)\n",
        "\n",
        "f[123] = 'onetwothree'          # Anything can be a dictionary key\n",
        "print(f)"
      ]
    },
    {
      "cell_type": "markdown",
      "metadata": {
        "id": "A7Tzcab-Llq0"
      },
      "source": [
        "### Dynamic typing"
      ]
    },
    {
      "cell_type": "code",
      "execution_count": null,
      "metadata": {
        "id": "hjnJMyAuLidy",
        "outputId": "4a5055b7-7a3b-44ec-9e67-8c777c139243"
      },
      "outputs": [
        {
          "name": "stdout",
          "output_type": "stream",
          "text": [
            "10.0 <class 'float'>\n",
            "[1, 2, 3] <class 'list'>\n",
            "(1, 2, 3) <class 'tuple'>\n"
          ]
        }
      ],
      "source": [
        "a = 10.        # Now a contains a float...\n",
        "print(a, type(a))\n",
        "a = [1, 2, 3]  # ...and now a list of integers.\n",
        "print(a, type(a))\n",
        "a = (1, 2, 3)  # Variables are just pointers to objects in memory\n",
        "print(a, type(a))"
      ]
    },
    {
      "cell_type": "markdown",
      "metadata": {
        "id": "Mjku9FI9LxDn"
      },
      "source": [
        "### Control statements"
      ]
    },
    {
      "cell_type": "code",
      "execution_count": null,
      "metadata": {
        "id": "J6LKhjEJLwaR",
        "outputId": "1b3584b8-da1d-43c0-9fbb-55a99d72c2f8"
      },
      "outputs": [
        {
          "name": "stdout",
          "output_type": "stream",
          "text": [
            "1\n",
            "4\n",
            "5\n",
            "Out of the loop!\n",
            "Zero\n",
            "ham\n"
          ]
        }
      ],
      "source": [
        "# For loop behaves as a foreach\n",
        "for i in [1, 4, 5]:\n",
        "    # After a ':', code must be indented\n",
        "    print(i)\n",
        "print(\"Out of the loop!\") # This statement is not indented as 'print(i)'\n",
        "\n",
        "# While loop\n",
        "a = 10\n",
        "while a > 0:  # Other operators: >=, <=, <, >, ==, !=\n",
        "    a = a - 1\n",
        "\n",
        "# If - else if - else\n",
        "if a == 0:\n",
        "    print('Zero')\n",
        "elif a < 0:\n",
        "    print('Negative')\n",
        "else:\n",
        "    print('Positive')\n",
        "    \n",
        "if not a == 0:  # 'not' is the keyword for negation\n",
        "    print('a is not 0')\n",
        "\n",
        "# Inline if - else\n",
        "a = 5\n",
        "print('spam' if a < 0 else 'ham')"
      ]
    },
    {
      "cell_type": "markdown",
      "metadata": {
        "id": "axKu1SmiMH_N"
      },
      "source": [
        "### Functions"
      ]
    },
    {
      "cell_type": "code",
      "execution_count": null,
      "metadata": {
        "id": "UgZmX7KnMLNw",
        "outputId": "d6c13dfd-7ad7-4d2f-c35f-835ebe20abcb"
      },
      "outputs": [
        {
          "name": "stdout",
          "output_type": "stream",
          "text": [
            "foo\n",
            "1 -1\n",
            "1 2\n",
            "1 3\n",
            "1 3\n"
          ]
        }
      ],
      "source": [
        "def foo(x):\n",
        "    print(x)\n",
        "    \n",
        "foo('foo')\n",
        "\n",
        "# This is a function with optional parameters\n",
        "def bar(x, optional=-1):\n",
        "    print( x, optional)\n",
        "\n",
        "bar(1)               # Prints 1 -1\n",
        "bar(1, optional=2)   # Prints 1 2\n",
        "bar(1, 3)            # Prints 1 3\n",
        "bar(optional=3, x=1) # Prints 1 3\n",
        "#bar(optional=3)     # Does not work!"
      ]
    },
    {
      "cell_type": "markdown",
      "metadata": {
        "id": "zIUvKctS1p0r"
      },
      "source": [
        "__Remark__: In Python everything is an object and variables are references to objects."
      ]
    },
    {
      "cell_type": "code",
      "execution_count": null,
      "metadata": {
        "id": "pUvoMchM1oDW",
        "outputId": "25037bce-4cd5-4187-85e7-e898dbe4baf5"
      },
      "outputs": [
        {
          "name": "stdout",
          "output_type": "stream",
          "text": [
            "[1, 2, 3]\n",
            "[1, None, 3]\n"
          ]
        }
      ],
      "source": [
        "def pippo(l):\n",
        "    l[1] = None \n",
        "\n",
        "s = [1, 2, 3]\n",
        "print(s)\n",
        "pippo(s)\n",
        "print(s)"
      ]
    },
    {
      "cell_type": "code",
      "execution_count": null,
      "metadata": {
        "id": "R6p-E8y95MDg",
        "outputId": "1003683b-9b88-4628-ce0b-a6466ce2c7f7"
      },
      "outputs": [
        {
          "name": "stdout",
          "output_type": "stream",
          "text": [
            "[1, 2, 3]\n",
            "[1, 2, 3]\n"
          ]
        }
      ],
      "source": [
        "def pluto(l):\n",
        "    l = [4, 5, 6]\n",
        "\n",
        "s = [1, 2, 3]\n",
        "print(s)\n",
        "pluto(s)\n",
        "print(s)"
      ]
    },
    {
      "cell_type": "markdown",
      "metadata": {
        "id": "In_lZVkO5wT5"
      },
      "source": [
        "- `pippo` changes the object not the variable\n",
        "(side effect, out of the function control), \n",
        "- `pluto` make variable `l` point to a different object (but `l` is local).\n",
        "\n",
        "__Take-away__: be careful of side effects."
      ]
    },
    {
      "cell_type": "markdown",
      "metadata": {
        "id": "UU9pJprHMM7W"
      },
      "source": [
        "### Syntactic sugar"
      ]
    },
    {
      "cell_type": "code",
      "execution_count": null,
      "metadata": {
        "id": "NawnmBzbMJS1",
        "outputId": "e58d5003-bb9a-43fb-a28b-a78cde1a625c"
      },
      "outputs": [
        {
          "name": "stdout",
          "output_type": "stream",
          "text": [
            "variable is None\n",
            "Element found\n",
            "[1, 2, 3, 4]\n",
            "[1, 2, 3, 4, 5, 6]\n",
            "[1, 1, 1, 1, 1, 1]\n"
          ]
        }
      ],
      "source": [
        "h = None\n",
        "if h is None:  # Check equivalence with \"is\"\n",
        "    print('variable is None')\n",
        "    \n",
        "if 1 in [1, 2, 3]:  # Check membership with \"in\"\n",
        "    print('Element found')\n",
        "    \n",
        "if 1 not in [1, 2, 3]:\n",
        "    print('Element not found')\n",
        "\n",
        "e = [1, 2, 3]    \n",
        "e.append(4)  # Append to list\n",
        "print(e)\n",
        "e = [1, 2, 3] + [4, 5, 6]  # Concatenate two lists\n",
        "print(e)\n",
        "e = [1 for _ in range(1, 7)] # List comprehension\n",
        "print(e)"
      ]
    },
    {
      "cell_type": "markdown",
      "metadata": {
        "id": "4Bwb_OORNJf1"
      },
      "source": [
        "### Built-in functions\n",
        "Python has a lot of native methods to do all sorts of stuff."
      ]
    },
    {
      "cell_type": "code",
      "execution_count": null,
      "metadata": {
        "id": "CC6Gqw_CNLzG"
      },
      "outputs": [],
      "source": [
        "a = list()     # List constructor\n",
        "for i in range(10):  # Count from 0 to 10 \n",
        "    a.append(5-i)\n",
        "sorted(a)      # Return a sorted list\n",
        "max(a)         # Find the max\n",
        "min(a)         # Find the min\n",
        "f = open('test_file.txt', 'w')  # Open a file\n",
        "f.write(\"I don't know what to say...\")\n",
        "f.close()"
      ]
    },
    {
      "cell_type": "markdown",
      "metadata": {
        "id": "C80a9yVyPXOd"
      },
      "source": [
        "### Importing external libraries\n",
        "The true power of Python lies in the vast amount of libraries that are available to developers."
      ]
    },
    {
      "cell_type": "code",
      "execution_count": null,
      "metadata": {
        "id": "c15oCuXTPmkd",
        "outputId": "021b3b5b-cd50-40ec-e16c-747be6c3c8d7"
      },
      "outputs": [
        {
          "name": "stdout",
          "output_type": "stream",
          "text": [
            "0.5403023058681398\n",
            "0.5403023058681398\n"
          ]
        },
        {
          "data": {
            "text/plain": "0.5403023058681398"
          },
          "execution_count": 10,
          "metadata": {},
          "output_type": "execute_result"
        }
      ],
      "source": [
        "import math  # Import the library (or \"module\") called \"math\"\n",
        "print(math.cos(1))\n",
        "\n",
        "from math import cos  # Import a single function from a module\n",
        "print(cos(1))\n",
        "\n",
        "import math as m  # Import a module and rename it\n",
        "m.cos(1)"
      ]
    },
    {
      "cell_type": "markdown",
      "metadata": {
        "id": "rQjgtDHESVru"
      },
      "source": [
        "---\n",
        "\n",
        "# Intro to NumPy\n",
        "The main library that we are going to use in the course is called Numpy, which the most popular Python library for scientific computing and array manipulation.   \n",
        "This notebook contains a primer on how to use some basic functions of Numpy."
      ]
    },
    {
      "cell_type": "code",
      "execution_count": null,
      "metadata": {
        "id": "HMIpdm4kRWb0"
      },
      "outputs": [],
      "source": [
        "import numpy as np"
      ]
    },
    {
      "cell_type": "markdown",
      "metadata": {
        "id": "5DWwQO0HRWb3"
      },
      "source": [
        "## NumPy arrays\n",
        "\n",
        "The building block of numpy is the `ndarray`,  short for \"n-dimensional array\". Arrays in Numpy are objects with three main properties: \n",
        "1. the actual data\n",
        "2. shape (data dimensions) \n",
        "3. data type\n",
        "\n",
        "To create an array, we use the `np.array` constructor. "
      ]
    },
    {
      "cell_type": "code",
      "execution_count": null,
      "metadata": {
        "id": "ZJbIb7H6RWb4",
        "outputId": "2f4dab63-db49-4066-fde7-8d8ad2897a96"
      },
      "outputs": [
        {
          "name": "stdout",
          "output_type": "stream",
          "text": [
            "Data:   [1 2 3]\n",
            "Shape:  (3,)\n",
            "Data type:   int64\n",
            "Type of a: <class 'numpy.ndarray'>\n"
          ]
        }
      ],
      "source": [
        "a = np.array([1, 2, 3])\n",
        "\n",
        "print('Data:  ', a)\n",
        "print('Shape: ', a.shape)\n",
        "print('Data type:  ', a.dtype)\n",
        "print('Type of a:', type(a))"
      ]
    },
    {
      "cell_type": "markdown",
      "metadata": {
        "id": "k_44YZSGV_Tn"
      },
      "source": [
        "We can also create arrays with a higher number of dimensions. An array with shape `(n, m)` is represented in classical notation with $\\mathbb{R}^{n \\times m}$."
      ]
    },
    {
      "cell_type": "code",
      "execution_count": null,
      "metadata": {
        "id": "dt-5JWQmRWb8",
        "outputId": "be91afb1-fc59-48e5-8864-26ba593cf0d7"
      },
      "outputs": [
        {
          "name": "stdout",
          "output_type": "stream",
          "text": [
            "Data:  \n",
            "[[1. 2. 3.]\n",
            " [4. 5. 6.]]\n",
            "Shape:  (2, 3)\n",
            "Type:   float64\n"
          ]
        }
      ],
      "source": [
        "b = np.array([[1., 2., 3.], \n",
        "              [4., 5., 6.]])  # a list of lists\n",
        "\n",
        "print('Data:  ')\n",
        "print(b)\n",
        "print('Shape: ', b.shape)\n",
        "print('Type:  ', b.dtype)"
      ]
    },
    {
      "cell_type": "code",
      "execution_count": null,
      "metadata": {
        "id": "HBebfUWD15V_",
        "outputId": "ebe31b7b-0ad5-4ff5-b560-ec5b30d77089"
      },
      "outputs": [
        {
          "name": "stdout",
          "output_type": "stream",
          "text": [
            "Shape:  (3,)\n",
            "Data:  \n",
            "[2. 2. 2.]\n",
            "\n",
            "Shape:  (3, 2, 5)\n",
            "Data:  \n",
            "[[[0. 0. 0. 0. 0.]\n",
            "  [0. 0. 0. 0. 0.]]\n",
            "\n",
            " [[0. 0. 0. 0. 0.]\n",
            "  [0. 0. 0. 0. 0.]]\n",
            "\n",
            " [[0. 0. 0. 0. 0.]\n",
            "  [0. 0. 0. 0. 0.]]]\n"
          ]
        }
      ],
      "source": [
        "t = 2 * np.ones(shape=3)\n",
        "print('Shape: ', t.shape)\n",
        "print('Data:  ')\n",
        "print(t)\n",
        "\n",
        "print()\n",
        "\n",
        "z = np.zeros(shape=(3, 2, 5)) \n",
        "print('Shape: ', z.shape)\n",
        "print('Data:  ')\n",
        "print(z)"
      ]
    },
    {
      "cell_type": "markdown",
      "metadata": {
        "id": "QzIYlHMXYV2q"
      },
      "source": [
        "Data, shape, and type af an array can be manipulated (obviously, we are mostly interested in manipulating the data, but the other two can be very important)."
      ]
    },
    {
      "cell_type": "code",
      "execution_count": null,
      "metadata": {
        "id": "_mtr6vRsYxIj",
        "outputId": "a8f27043-c6ec-4892-d18b-03e1a2489f84"
      },
      "outputs": [
        {
          "name": "stdout",
          "output_type": "stream",
          "text": [
            "Original:     [0 1 2 3 4 5 6 7 8]\n",
            "Change data:  [0 1 9 3 4 5 6 7 8]\n",
            "Change shape to (3, 3):\n",
            "[[0 1 9]\n",
            " [3 4 5]\n",
            " [6 7 8]]\n",
            "[[0 1 9]\n",
            " [3 4 5]\n",
            " [6 7 8]]\n",
            "Change type:  [0. 1. 9. 3. 4. 5. 6. 7. 8.]\n",
            "int64\n"
          ]
        },
        {
          "name": "stderr",
          "output_type": "stream",
          "text": [
            "/var/folders/7y/jwt0sz293lb5sh9_kg_34z9c0000gn/T/ipykernel_47543/2696538101.py:14: DeprecationWarning: `np.float` is a deprecated alias for the builtin `float`. To silence this warning, use `float` by itself. Doing this will not modify any behavior and is safe. If you specifically wanted the numpy scalar type, use `np.float64` here.\n",
            "Deprecated in NumPy 1.20; for more details and guidance: https://numpy.org/devdocs/release/1.20.0-notes.html#deprecations\n",
            "  print('Change type: ', a.astype(np.float))\n"
          ]
        }
      ],
      "source": [
        "a = np.array([0, 1, 2, 3, 4, 5, 6, 7, 8])\n",
        "print('Original:    ', a)\n",
        "\n",
        "# Edit data\n",
        "a[2] = 9\n",
        "print('Change data: ', a)\n",
        "\n",
        "# Edit shape\n",
        "print('Change shape to (3, 3):')\n",
        "print(a.reshape((3, 3)))\n",
        "print(a.reshape((3, -1)))\n",
        "\n",
        "# Change type\n",
        "print('Change type: ', a.astype(np.float))\n",
        "print(a.dtype)"
      ]
    },
    {
      "cell_type": "markdown",
      "metadata": {
        "id": "WS6ujOsiuJ2m"
      },
      "source": [
        "Arrays can be accessed like lists, but support an advanced slicing operator that allows for complex behaviours."
      ]
    },
    {
      "cell_type": "code",
      "execution_count": null,
      "metadata": {
        "id": "Jl9qoDXZuWGR",
        "outputId": "9df62fa6-4aae-40e0-ac58-d82b856ed694"
      },
      "outputs": [
        {
          "name": "stdout",
          "output_type": "stream",
          "text": [
            "[[0 1 2]\n",
            " [3 4 5]\n",
            " [6 7 8]]\n",
            "a[0, 0]: 0\n"
          ]
        }
      ],
      "source": [
        "a = np.arange(9).reshape((3, 3))\n",
        "print(a)\n",
        "\n",
        "# Access element 0, 0\n",
        "print(\"a[0, 0]:\", a[0, 0])"
      ]
    },
    {
      "cell_type": "code",
      "execution_count": null,
      "metadata": {
        "id": "J-qQCxBju5YX",
        "outputId": "a84b8dad-b808-43b2-8e61-e0470e7c1674"
      },
      "outputs": [
        {
          "name": "stdout",
          "output_type": "stream",
          "text": [
            "[0 1 2]\n"
          ]
        }
      ],
      "source": [
        "# Access first row\n",
        "print(a[0])"
      ]
    },
    {
      "cell_type": "code",
      "execution_count": null,
      "metadata": {
        "id": "XdDzjeoX3VhD",
        "outputId": "c4e75ce0-d54f-469d-8ed4-94904fe17ccd"
      },
      "outputs": [
        {
          "name": "stdout",
          "output_type": "stream",
          "text": [
            "[0 1 2]\n"
          ]
        }
      ],
      "source": [
        "print(a[0, :])"
      ]
    },
    {
      "cell_type": "code",
      "execution_count": null,
      "metadata": {
        "id": "KYA5izk-u6oK",
        "outputId": "b9532fe3-68ec-458d-e5c5-a08d9c410c4a"
      },
      "outputs": [
        {
          "name": "stdout",
          "output_type": "stream",
          "text": [
            "[0 3 6]\n"
          ]
        }
      ],
      "source": [
        "# Access first column\n",
        "print(a[:, 0])"
      ]
    },
    {
      "cell_type": "code",
      "execution_count": null,
      "metadata": {
        "id": "2nD5knaz3XKQ",
        "outputId": "1ff71d17-d0f5-4555-f973-992431f5d89b"
      },
      "outputs": [
        {
          "name": "stdout",
          "output_type": "stream",
          "text": [
            "[[0]\n",
            " [3]\n",
            " [6]]\n",
            "shape: (3, 1)\n"
          ]
        }
      ],
      "source": [
        "print(a[:, 0:1])\n",
        "print(\"shape:\", a[:, 0:1].shape)"
      ]
    },
    {
      "cell_type": "code",
      "execution_count": null,
      "metadata": {
        "id": "zTUcsC-Mu7tD",
        "outputId": "603860ab-5d2d-4d65-eeff-01f6f6844909"
      },
      "outputs": [
        {
          "name": "stdout",
          "output_type": "stream",
          "text": [
            "[[0 1]\n",
            " [3 4]]\n"
          ]
        }
      ],
      "source": [
        "# Access 2 x 2 submatrix\n",
        "print(a[0:2, 0:2])"
      ]
    },
    {
      "cell_type": "code",
      "execution_count": null,
      "metadata": {
        "id": "zkiptDTb3j55",
        "outputId": "d94f4b49-0ac9-4379-f5ae-7a35fa1bb29f"
      },
      "outputs": [
        {
          "name": "stdout",
          "output_type": "stream",
          "text": [
            "[[0 1]\n",
            " [3 4]]\n"
          ]
        }
      ],
      "source": [
        "print(a[:2, :2])"
      ]
    },
    {
      "cell_type": "markdown",
      "metadata": {
        "id": "bmlB1JnFa-H_"
      },
      "source": [
        "## Numpy operations\n",
        "Numpy implements hundreds of useful mathematical operations on and between arrays. \n",
        "\n",
        "### Operations on arrays\n",
        "\n",
        "Unary operations on arrays are applied element-wise, i.e., evaluated for each number saved in the array. Shape is usually not affected by unary operations, but type might. "
      ]
    },
    {
      "cell_type": "code",
      "execution_count": null,
      "metadata": {
        "id": "T6zhXrkecCYj"
      },
      "outputs": [],
      "source": [
        "import matplotlib.pyplot as plt\n",
        "\n",
        "# Create a sequence of 1000 floats equally spaced between 0 and 2pi\n",
        "x = np.linspace(0, 2 * np.pi, 1000)"
      ]
    },
    {
      "cell_type": "markdown",
      "metadata": {
        "id": "dBDI8XKC3smv"
      },
      "source": [
        "__Trick__: in a code cell hold \"ctrl\" and point to a function"
      ]
    },
    {
      "cell_type": "markdown",
      "metadata": {
        "id": "m8YXAWdk0Yu7"
      },
      "source": [
        "This how we compute the sine function at all points defined in `x`."
      ]
    },
    {
      "cell_type": "code",
      "execution_count": null,
      "metadata": {
        "id": "F-D9ZK6p0X7t",
        "outputId": "f710c45f-24ff-490a-a8a8-c26ac885e9df"
      },
      "outputs": [
        {
          "data": {
            "text/plain": "<Figure size 640x480 with 1 Axes>",
            "image/png": "[encoded data removed]"
          },
          "metadata": {},
          "output_type": "display_data"
        }
      ],
      "source": [
        "y = np.sin(x)\n",
        "plt.plot(x, y);  # Plot a line graph built using (x[i], y[i]) pairs"
      ]
    },
    {
      "cell_type": "markdown",
      "metadata": {
        "id": "IStSMhG70eR8"
      },
      "source": [
        "And similarly, $e^x$."
      ]
    },
    {
      "cell_type": "code",
      "execution_count": null,
      "metadata": {
        "id": "eleIv243c4Ja",
        "outputId": "40cf0dc3-4ecb-4380-f8a7-bc683d207733"
      },
      "outputs": [
        {
          "data": {
            "text/plain": "<Figure size 640x480 with 1 Axes>",
            "image/png": "[encoded data removed]"
          },
          "metadata": {},
          "output_type": "display_data"
        }
      ],
      "source": [
        "plt.plot(x, np.exp(x));"
      ]
    },
    {
      "cell_type": "markdown",
      "metadata": {
        "id": "ymf97J5h0kui"
      },
      "source": [
        "Numpy offers a very large collection of functions."
      ]
    },
    {
      "cell_type": "code",
      "execution_count": null,
      "metadata": {
        "id": "CmJlDJ25dGW6"
      },
      "outputs": [],
      "source": [
        "y = np.square(x)   # Square\n",
        "y = np.sqrt(x)     # Square root\n",
        "y = np.floor(x)    # Flooring\n",
        "y = np.power(x, 3) # Exponentiation\n",
        "y = np.tan(x)      # Tangent\n",
        "y = np.arctan(x)   # Arctangent\n",
        "y = np.tanh(x)     # Hyperbolic tangent"
      ]
    },
    {
      "cell_type": "markdown",
      "metadata": {
        "id": "Tta226gOhSrd"
      },
      "source": [
        "Arrays also support advanced manipulation via a process called **broadcasting**.  \n",
        "The following is a valid expression in Numpy, and gets evaluated at every point in the array x. This concept can also be applied to higher-rank arrays."
      ]
    },
    {
      "cell_type": "code",
      "execution_count": null,
      "metadata": {
        "id": "NQ7zO2D1ik-o",
        "outputId": "e2db5bce-79fc-43d6-9531-564af82bdb8b"
      },
      "outputs": [
        {
          "data": {
            "text/plain": "<Figure size 640x480 with 1 Axes>",
            "image/png": "[encoded data removed]"
          },
          "metadata": {},
          "output_type": "display_data"
        }
      ],
      "source": [
        "y = x + 2  # 2 gets summed to every point in x\n",
        "plt.plot(x, y);"
      ]
    },
    {
      "cell_type": "markdown",
      "metadata": {
        "id": "bjd4n5lniz29"
      },
      "source": [
        "This can be extended to arbitrarily complex functions!"
      ]
    },
    {
      "cell_type": "code",
      "execution_count": null,
      "metadata": {
        "id": "Ei-j36uNhgSu",
        "outputId": "5aba7008-ef96-44c2-a31d-abbaa9a6e6b6"
      },
      "outputs": [
        {
          "data": {
            "text/plain": "<Figure size 640x480 with 1 Axes>",
            "image/png": "[encoded data removed]"
          },
          "metadata": {},
          "output_type": "display_data"
        }
      ],
      "source": [
        "y1 = np.sin(x ** 2 + 3) + 3 * np.cos(x)\n",
        "plt.plot(x, y1);"
      ]
    },
    {
      "cell_type": "code",
      "execution_count": null,
      "metadata": {
        "id": "PlFw56uh6b_5",
        "outputId": "cbdca1a4-1e71-4a76-8f2e-d8648058af6b"
      },
      "outputs": [
        {
          "data": {
            "text/plain": "<Figure size 640x480 with 1 Axes>",
            "image/png": "[encoded data removed]"
          },
          "metadata": {},
          "output_type": "display_data"
        }
      ],
      "source": [
        "# we can also draw multiple plots\n",
        "y2 = np.sin(x) * np.cos(10*x)\n",
        "\n",
        "plt.plot(x, y1, label=\"fun_2\");\n",
        "plt.plot(x, y2, label=\"fun_2\");\n",
        "plt.legend()\n",
        "\n",
        "plt.title(\"nothing to declare\")\n",
        "plt.xlabel(\"my x\")\n",
        "plt.ylabel(\"my y\")\n",
        "plt.grid()"
      ]
    },
    {
      "cell_type": "markdown",
      "metadata": {
        "id": "-mpyU8xgvX3J"
      },
      "source": [
        "### Operations between arrays\n",
        "Operations can also be computed between two or more arrays.  \n",
        "There are two equivalent notations to compute the dot product between arrays in Numpy."
      ]
    },
    {
      "cell_type": "code",
      "execution_count": null,
      "metadata": {
        "id": "pplAIsswvilH",
        "outputId": "66936a19-e864-4c78-af2b-54ecbab6c261"
      },
      "outputs": [
        {
          "name": "stdout",
          "output_type": "stream",
          "text": [
            "204\n",
            "204\n",
            "204\n"
          ]
        }
      ],
      "source": [
        "# 1D arrays\n",
        "x = np.arange(9)\n",
        "y = np.arange(9)\n",
        "\n",
        "# Dot product\n",
        "xy = np.dot(x, y)\n",
        "print(xy)\n",
        "xy = x.dot(y)\n",
        "print(xy)\n",
        "xy = 0\n",
        "for i in range(9):\n",
        "    xy += x[i] * y[i]\n",
        "print(xy)"
      ]
    },
    {
      "cell_type": "code",
      "execution_count": null,
      "metadata": {
        "id": "JjZXZZUb11vb",
        "outputId": "c8ad039d-e544-4e75-ea99-5529e6552137"
      },
      "outputs": [
        {
          "name": "stdout",
          "output_type": "stream",
          "text": [
            "xy = 333183354999 - numpy dot time:  1.678 ms\n",
            "xy = 333183354999 - for cycle time:  5.481 ms\n"
          ]
        }
      ],
      "source": [
        "from time import time\n",
        "\n",
        "# 1D arrays\n",
        "x = np.arange(9999)\n",
        "y = np.arange(9999)\n",
        "\n",
        "start = time()\n",
        "xy = np.dot(x, y)\n",
        "np_time = time() - start\n",
        "print(\"xy = {} - numpy dot time: {:6.3f} ms\".format(xy, np_time * 1000))\n",
        "\n",
        "start = time()\n",
        "xy = 0\n",
        "for i in range(9999):\n",
        "    xy += x[i] * y[i]\n",
        "for_time = time() - start\n",
        "print(\"xy = {} - for cycle time: {:6.3f} ms\".format(xy, for_time * 1000))\n"
      ]
    },
    {
      "cell_type": "markdown",
      "metadata": {
        "id": "-N8dV8MdwmTe"
      },
      "source": [
        "The same can be done for matrices."
      ]
    },
    {
      "cell_type": "code",
      "execution_count": null,
      "metadata": {
        "id": "xIprDvRSv9_F",
        "outputId": "4934610f-1e7a-4bc4-8080-379b9e9cf821"
      },
      "outputs": [
        {
          "name": "stdout",
          "output_type": "stream",
          "text": [
            "[[ 15  18  21]\n",
            " [ 42  54  66]\n",
            " [ 69  90 111]]\n",
            "[[ 15  18  21]\n",
            " [ 42  54  66]\n",
            " [ 69  90 111]]\n"
          ]
        }
      ],
      "source": [
        "# 2D arrays\n",
        "v = np.arange(9).reshape((3, 3))\n",
        "w = np.arange(9).reshape((3, 3))\n",
        "\n",
        "# Matrix multiplication between square matrices (row-column multiplication)\n",
        "vw = v.dot(w)\n",
        "print(vw)\n",
        "# The @ operator can be used as well\n",
        "print(v @ w)"
      ]
    },
    {
      "cell_type": "markdown",
      "metadata": {
        "id": "ACTpSvppxBNK"
      },
      "source": [
        "When multiplying non-square matrices, we have to be sure that their dimensions are aligned properly."
      ]
    },
    {
      "cell_type": "code",
      "execution_count": null,
      "metadata": {
        "id": "uEMGozwMw2I4"
      },
      "outputs": [],
      "source": [
        "# Define two non-square matrices\n",
        "v = np.arange(6).reshape((3, 2))\n",
        "w = np.arange(6).reshape((3, 2))"
      ]
    },
    {
      "cell_type": "code",
      "execution_count": null,
      "metadata": {
        "id": "L0fM3hA0xSJq",
        "outputId": "f9d79224-adcc-482c-f1d7-5f7ea645e98b"
      },
      "outputs": [
        {
          "name": "stdout",
          "output_type": "stream",
          "text": [
            "ValueError: shapes (3,2) and (3,2) not aligned: 2 (dim 1) != 3 (dim 0)\n"
          ]
        }
      ],
      "source": [
        "# This will crash\n",
        "try:\n",
        "    vw = v.dot(w)\n",
        "except ValueError as e:\n",
        "    print('ValueError:', e)"
      ]
    },
    {
      "cell_type": "code",
      "execution_count": null,
      "metadata": {
        "id": "GB4mCXkyxTtq",
        "outputId": "37b8e498-26bb-4f1d-9fcf-d208ffbf7142"
      },
      "outputs": [
        {
          "name": "stdout",
          "output_type": "stream",
          "text": [
            "[[ 1  3  5]\n",
            " [ 3 13 23]\n",
            " [ 5 23 41]]\n"
          ]
        }
      ],
      "source": [
        "# Transpose the second matrix with w.T to compute the correct product\n",
        "vw = v.dot(w.T)\n",
        "print(vw)"
      ]
    },
    {
      "cell_type": "code",
      "execution_count": null,
      "metadata": {
        "id": "xAvvGF9S8AeH",
        "outputId": "a6b64db7-cff6-4891-f1b5-99fc3bb9f171"
      },
      "outputs": [
        {
          "name": "stdout",
          "output_type": "stream",
          "text": [
            "[[20 26]\n",
            " [26 35]]\n"
          ]
        }
      ],
      "source": [
        "# which is very different from\n",
        "vw = v.T.dot(w)\n",
        "print(vw)"
      ]
    },
    {
      "cell_type": "markdown",
      "metadata": {
        "id": "5aP0ls_3_iz_"
      },
      "source": [
        "Note that the usual multiplication opertaror does not work as a dot product, but as an element-wise operator. The same holds for `+`, `-`, and `/`."
      ]
    },
    {
      "cell_type": "code",
      "execution_count": null,
      "metadata": {
        "id": "hc2Nlly0_tNF",
        "outputId": "2bf2e825-7dfa-40f9-a303-c1ede45429f4"
      },
      "outputs": [
        {
          "name": "stdout",
          "output_type": "stream",
          "text": [
            "[ 0  2  4  6  8 10 12 14 16]\n",
            "[ 0  1  4  9 16 25 36 49 64]\n"
          ]
        }
      ],
      "source": [
        "# Element-wise multiplication\n",
        "v = np.arange(9)\n",
        "w = np.arange(9)\n",
        "print(v + w)\n",
        "print(v * w)"
      ]
    },
    {
      "cell_type": "markdown",
      "metadata": {
        "id": "k-NBLf0G1-po"
      },
      "source": [
        "Arrays can be stacked or concatenated together in several ways, along different **axes**."
      ]
    },
    {
      "cell_type": "code",
      "execution_count": null,
      "metadata": {
        "id": "UUPx7kx_2KMf",
        "outputId": "7eb939cd-9140-4c90-b027-791d04f1bcd9"
      },
      "outputs": [
        {
          "name": "stdout",
          "output_type": "stream",
          "text": [
            "Concatenated\n",
            "[0 1 2 3 4 5 6 7 8 0 1 2 3 4 5 6 7 8]\n",
            "Stacked rows\n",
            "[[0 1 2 3 4 5 6 7 8]\n",
            " [0 1 2 3 4 5 6 7 8]]\n",
            "Stacked columns\n",
            "[[0 0]\n",
            " [1 1]\n",
            " [2 2]\n",
            " [3 3]\n",
            " [4 4]\n",
            " [5 5]\n",
            " [6 6]\n",
            " [7 7]\n",
            " [8 8]]\n"
          ]
        }
      ],
      "source": [
        "import numpy as np\n",
        "\n",
        "a = np.arange(9)\n",
        "b = np.arange(9)\n",
        "\n",
        "# Concatenate together\n",
        "print('Concatenated')\n",
        "ab = np.concatenate((a, b))\n",
        "print(ab)\n",
        "\n",
        "# Stack as a matrix\n",
        "print('Stacked rows')\n",
        "ab = np.vstack((a, b))  # Short for \"vertical stack\"\n",
        "print(ab)\n",
        "\n",
        "# Stack two column vectors\n",
        "print('Stacked columns')\n",
        "a = a.reshape((9, 1))   # Column vector\n",
        "b = b.reshape((9, 1))   # Column vector\n",
        "ab = np.hstack((a, b))  # Short for \"horizontal stack\"\n",
        "print(ab)"
      ]
    },
    {
      "cell_type": "markdown",
      "source": [
        "## Some NumPy concepts you need to BE AWARE OF\n",
        "\n",
        "- The main data structure is the array, which can be multi-dimensional\n",
        "\n",
        "    - number/scalar: 0-dimensional array\n",
        "        - Example: `np.array(3)`\n",
        "    - vector: 1-d array\n",
        "        - Example: `np.array([3, 1, 5])`\n",
        "    - matrix: 2d array\n",
        "        - Example: `np.array([[1, 2], [3, 2]])`\n",
        "    - tensor: d-dimensional array (very recurrent concept in machine learning and ML libraries, such as [TensorFlow](https://www.tensorflow.org/), [Keras](https://www.tensorflow.org/api_docs/python/tf/keras) and [PyTorch](https://pytorch.org/), so you'd better get used to it!)\n",
        "        - Example: `np.array([[[1, 1], [3, 3]]])`\n",
        "- An array has\n",
        "\n",
        "    - data (e.g. numbers)\n",
        "    - shape (dimensions)\n",
        "    - type (all elements of the array have this type, so this is different from Python lists, and this is one of the reasons that makes NumPy more efficient)\n",
        "\n",
        "- You can perform many operations on arrays, such as\n",
        "\n",
        "    - [Resizing, reshaping, changing the type, concatenating arrays, etc.](https://numpy.org/doc/stable/reference/routines.array-manipulation.html)\n",
        "        - Example: from `np.array([[1, 2], [3, 2]])` to `array([[1, 2, 3, 2]])`),\n",
        "    - [indexing/slicing](https://numpy.org/doc/stable/reference/arrays.indexing.html) (select one or more elements from the array)\n",
        "        - This can be done in different ways in NumPy\n",
        "    - [statistical operations](https://numpy.org/doc/stable/reference/routines.statistics.html) (such as taking the mean, standard deviation, etc., of all or some elements)\n",
        "    - [linear algebra operations](https://numpy.org/doc/stable/reference/routines.linalg.html) (transpose, dot product, matrix multiplications, norm, eigenvectors, eigenvalues, solve linear systems, etc.)\n",
        "    - [other mathematical operations](https://numpy.org/doc/stable/reference/routines.math.html)  (e.g. trigonometric functions, such as sine, cosine, etc.)\n",
        "    - [logical](https://numpy.org/doc/stable/reference/routines.logic.html) and [binary](https://numpy.org/doc/stable/reference/routines.bitwise.html) operations\n",
        "    - [Sorting, searching, and counting](https://numpy.org/doc/stable/reference/routines.sort.html)\n",
        "    - [Fourier transforms](https://numpy.org/doc/stable/reference/routines.fft.html) (maybe a bit too advanced for you now)\n",
        "\n",
        "- We can create arrays in different ways depending on our needs (by specifying the data and shape of the array and sometimes the type)\n",
        "    - From Python built-in iterables (e.g. lists or tuples)\n",
        "    - By randomly generating them by sampling the elements from uniform, Gaussian, etc., distributions\n",
        "    - With specific values (e.g. an array of all zeros, or an array of all ones)\n",
        "\n",
        "- Operations on arrays can be element-wise (aka component-wise)\n",
        "    - Example: multiply a number for all elements of an array (but you can also multiply a number by a specific element of the array, rather than all of them)\n",
        "    - This is actually just an implementation of similar linear algebra concepts (such as scalar-vector multiplication)\n",
        "\n",
        "- [Vectorized operations](http://www2.imm.dtu.dk/pubdb/edoc/imm3274.pdf)\n",
        "    - The idea that certain operations that you usually perform only with numbers can also be performed/implemented with arrays\n",
        "    - You often need to think in terms of vectors, matrices or multi-dimensional arrays in machine learning (you need this mindset)\n",
        "    - For instance, `(a + b)(a - b) = a^2 - b^2` , where `a` and `b` are real numbers, has the vectorized counterpart `(a + b)(a - b) = aa^T - bb^T`, where `a` and `b` are m-dimensional vectors and `T` is the transpose operation\n",
        "        - Example: `a = [1, 2]` and `b = [2, 2]`, then `(a + b)(a - b) = ([1, 2] + [2, 2])([1, 2] - [2, 2]) = [3, 4] • [-1, 0] = -3`, which is equal to `[1, 2]•[1, 2]^T - [2, 2]•[2, 2]^T = 5 - 8 = -3`, where `•` is the dot product symbol.\n",
        "\n",
        "- [Broadcasting](https://numpy.org/doc/stable/user/theory.broadcasting.html?highlight=broadcasting) (i.e. how arrays are treated when arrays of different dimensions/shapes are involved in an operation)\n",
        "    - Example: `a * b`, where `a = 2.0` and `b = np.array([1, 2])`, becomes `np.array([2.0, 4.0])`.\n",
        "        - This is just the simple case of scalar-vector multiplication, which is a very common linear algebra operation, but there are more advanced \"broadcasting\" situations\n",
        "\n",
        "- Many operations in NumPy do not create a new array out of the array that the operation is applied to, but only a reference (aka \"view\") to it, this means that modifying the reference can also modify the original object (side effects)\n",
        "    - Example: [slicing/indexing creates a view/reference to the specific sub-part of the array](https://scipy-cookbook.readthedocs.io/items/ViewsVsCopies.html)\n",
        "    - In any case, when you need, you can make (deep) copies of objects to avoid side effects!\n",
        "        - Example: once I was trying to solve a problem that required a NumPy array with floating-point numbers but I was wronly using an array of integers (I was not able to find the correct solution until I realised this mistake)\n",
        "\n",
        "- NumPy is [efficient](https://stackoverflow.com/q/8385602/3924118) because\n",
        "    - the Python functions actually often call some pre-compiled C code or other compiled code or libraries (e.g. [BLAS](http://www.netlib.org/blas/))\n",
        "    - the elements of the same array have the same type, so certain optimizations can be made (e.g. you don't need to check that the elements of that array have the same type in order to perform some operation)\n",
        "\n",
        "### Note 1\n",
        "\n",
        "> You don't need to memorise everything written above now, but, the more you use NumPy, the more you will come across all these concepts, so you should be aware of them. In general, it requires some time (weeks, months or even years) to become an expert in a library or programming language and, sometimes, you don't even need to be an expert, but just need to know how to use it and look up the documentation.\n",
        "\n",
        "### Note 2\n",
        "\n",
        "> You should go through the first lab's notebook that introduces the basic syntax of Python, if you are not familiar with Python. Here, I will focus on NumPy, but you can ask me questions about Python too, if you have any doubts.\n",
        "\n",
        "### Note 3\n",
        "\n",
        "> When you are not sure how a method is implemented or how to do something, look up the documentation or google it ;)"
      ],
      "metadata": {
        "collapsed": false,
        "id": "AyRxDh25Cd84"
      }
    },
    {
      "cell_type": "markdown",
      "source": [
        "\n",
        "## Why do we care about NumPy in machine learning?\n",
        "\n",
        "- Loosely speaking, machine learning is about extracting patterns from past data, which are in \"stored\" models, in order to e.g. predict something about future data (is this already clear to you?)\n",
        "\n",
        "    - Arrays can represent/contain the parameters of a model\n",
        "    - Arrays can represent datasets"
      ],
      "metadata": {
        "collapsed": false,
        "id": "1d99sVyaCd85"
      }
    },
    {
      "cell_type": "markdown",
      "source": [
        "## Exercises to get used to simple NumPy operations\n",
        "\n",
        "GOAL: get used to simple common operations in NumPy and start to use Google and the documentation to search for help.\n",
        "\n",
        "Try to solve all exercises by yourself (i.e. do not copy from a classmate), but you are encouraged to use the following (and other) resources for help.\n",
        "\n",
        "- [NumPy documentation](https://numpy.org/doc/stable/reference/)\n",
        "- [Stack Overflow](https://stackoverflow.com/questions/tagged/numpy)\n",
        "- [Google](https://www.google.ch/) (of course)\n",
        "\n",
        "We don't expect you to already know everything, but you should be able to UNDERSTAND the solution you implement.\n",
        "\n",
        "If you find any difficulty in solving the following tasks, try to understand what the problem is and try to formulate a question to ask us: we are going to do our best to help you out!\n",
        "\n",
        "Here are the exercises."
      ],
      "metadata": {
        "collapsed": false,
        "id": "h3JdrRIPCd85"
      }
    },
    {
      "cell_type": "markdown",
      "source": [
        "### Exercise 1 (import a Python library)\n",
        "\n",
        "Import NumPy library with an alias `np`.\n",
        "\n",
        "> Note that [Google Colaboratory](https://colab.research.google.com/) should already come with many Python libraries, such as NumPy, installed. [However, in general, before using a (external) Python library (such as NumPy), you need to install it first](https://packaging.python.org/tutorials/installing-packages/).\n",
        ">\n",
        "> You can list the installed libraries with `pip list` in Python.\n",
        ">\n",
        "> In Google Colab, you need to prepend the special character `!` to execute `pip list`. In Google Colab and generally in [Jupyter notebooks](https://jupyter.org/), [`!` is generally used to execute \"shell commands\". There's also `%`](https://stackoverflow.com/q/45784499/3924118)."
      ],
      "metadata": {
        "collapsed": false,
        "id": "hFeiqOU4Cd85"
      }
    },
    {
      "cell_type": "code",
      "execution_count": null,
      "outputs": [],
      "source": [
        "# Uncomment the following line if you want to list the Python packages/libraries installed with pip\n",
        "# !pip list\n",
        "\n",
        "# REMEMBER: comments in Python start with #, so this is a comment\n",
        "import numpy as np"
      ],
      "metadata": {
        "id": "b5wujBVPCd85"
      }
    },
    {
      "cell_type": "markdown",
      "source": [
        "### Exercise 2 (create an array from a Python list)\n",
        "\n",
        "- Generate a numpy array `A` from the Python list `[1, 2, 3]` and specify the type to be `np.float16`.\n",
        "\n",
        "- Then print `A`, its shape and type."
      ],
      "metadata": {
        "collapsed": false,
        "id": "X8xz28UqCd85"
      }
    },
    {
      "cell_type": "code",
      "execution_count": null,
      "outputs": [
        {
          "name": "stdout",
          "output_type": "stream",
          "text": [
            "[1. 2. 3.]\n",
            "(3,)\n",
            "float16\n"
          ]
        }
      ],
      "source": [
        "A = np.array([1, 2, 3], dtype=np.float16)\n",
        "print(A)\n",
        "print(A.shape) # Not the same as type(A); you can also do np.shape(A)\n",
        "print(A.dtype)"
      ],
      "metadata": {
        "id": "bQxHFd77Cd85",
        "outputId": "2d526b1e-398f-4cff-d8bf-c75bd2cbe304"
      }
    },
    {
      "cell_type": "markdown",
      "source": [
        "### Exercise 3 (create an array with same value everywhere)\n",
        "\n",
        "- Generate an array `A` with 5 rows and 9 columns (a.k.a. a 5x9 matrix or, equivalently, an array with shape `(5, 9)`) with the same **integer** `7` everywhere.\n",
        "\n",
        "    - _Hint: use [`np.full`](https://numpy.org/doc/stable/reference/generated/numpy.full.html)_\n",
        "\n",
        "    > NOTE: This operation will [shadow](https://en.wikipedia.org/wiki/Variable_shadowing) the previously defined array with the same name `A`, but that's ok, in this case, because we will not use the previously defined array.\n",
        "\n",
        "- Then print `A`, its shape and type."
      ],
      "metadata": {
        "collapsed": false,
        "id": "QmAyyQzUCd85"
      }
    },
    {
      "cell_type": "code",
      "execution_count": null,
      "outputs": [
        {
          "name": "stdout",
          "output_type": "stream",
          "text": [
            "[[7 7 7 7 7 7 7 7 7]\n",
            " [7 7 7 7 7 7 7 7 7]\n",
            " [7 7 7 7 7 7 7 7 7]\n",
            " [7 7 7 7 7 7 7 7 7]\n",
            " [7 7 7 7 7 7 7 7 7]]\n",
            "(5, 9)\n",
            "int64\n"
          ]
        }
      ],
      "source": [
        "A = np.full((5, 9), 7, dtype=np.int64)\n",
        "print(A)\n",
        "print(A.shape)\n",
        "print(A.dtype)"
      ],
      "metadata": {
        "id": "4YdmRkyQCd85",
        "outputId": "407f2898-7e49-4e09-a9a1-5d13cee3bf61"
      }
    },
    {
      "cell_type": "markdown",
      "source": [
        "## Exercise 4 (sample an array from a [uniform distribution](https://en.wikipedia.org/wiki/Continuous_uniform_distribution))\n",
        "\n",
        "- Generate an array `A` with shape `(5, 9)` where each component is sampled from a uniform distribution over the half-open interval `[0, 1)`.\n",
        "\n",
        "    - **Hint**: look at method [`numpy.random.uniform`](https://numpy.org/doc/stable/reference/random/generated/numpy.random.uniform.html).\n",
        "\n",
        "- Then print `A`, its shape and type.\n"
      ],
      "metadata": {
        "collapsed": false,
        "id": "WssfwVT0Cd86"
      }
    },
    {
      "cell_type": "code",
      "execution_count": null,
      "outputs": [
        {
          "name": "stdout",
          "output_type": "stream",
          "text": [
            "[[0.4377923  0.55756674 0.18449452 0.49452692 0.57285309 0.2870387\n",
            "  0.91797449 0.62395264 0.23587823]\n",
            " [0.40851218 0.01509876 0.55174306 0.82412277 0.84808881 0.79219573\n",
            "  0.63268433 0.12791482 0.4156163 ]\n",
            " [0.45921186 0.59448214 0.63768967 0.65820373 0.8906541  0.68071186\n",
            "  0.12764452 0.18238638 0.99162751]\n",
            " [0.56458139 0.81294224 0.48551278 0.96088724 0.2108013  0.45927413\n",
            "  0.75369181 0.22172566 0.05301879]\n",
            " [0.17450259 0.14331529 0.70192109 0.91828755 0.43453962 0.75612409\n",
            "  0.73038592 0.01404892 0.76190473]]\n",
            "(5, 9)\n",
            "float64\n"
          ]
        }
      ],
      "source": [
        "A = np.random.uniform(0.0, 1.0, (5, 9))\n",
        "print(A)\n",
        "print(A.shape)\n",
        "print(A.dtype)"
      ],
      "metadata": {
        "id": "AsahKH4TCd86",
        "outputId": "385ab67e-2880-422f-b059-b507efac6f0e"
      }
    },
    {
      "cell_type": "markdown",
      "source": [
        "### Exercise 5 (sample an array from a [Gaussian](https://en.wikipedia.org/wiki/Normal_distribution))\n",
        "\n",
        "- Do the same thing as in the previous exercise, but where each component of the array is drawn from a Gaussian distribution with mean `3.5` and standard deviation `0.2`.\n",
        "\n",
        "    - **Hint**: look at method [`numpy.random.normal`](https://numpy.org/doc/stable/reference/random/generated/numpy.random.normal.html).\n",
        "\n",
        "- Then print `A`, its shape and type."
      ],
      "metadata": {
        "collapsed": false,
        "id": "SEEPAGV4Cd86"
      }
    },
    {
      "cell_type": "code",
      "execution_count": null,
      "outputs": [
        {
          "name": "stdout",
          "output_type": "stream",
          "text": [
            "[[3.31519973 3.66743455 3.42244499 3.37558155 3.4184766  3.53903199\n",
            "  3.56585021 3.70558828 3.63086801]\n",
            " [3.55571655 3.70353952 3.5491389  3.3622999  3.53998555 3.63233974\n",
            "  3.57705029 3.85337897 3.62557826]\n",
            " [3.26403078 3.75671655 3.65061531 3.47504024 3.85541362 3.48684897\n",
            "  3.61031538 3.40393629 3.24487635]\n",
            " [3.56807273 3.58821055 3.16919931 3.53280505 3.2983808  3.53453725\n",
            "  3.52694349 3.21766203 3.33664334]\n",
            " [3.69239464 3.53274893 3.07188796 3.44746202 3.90790317 3.26755169\n",
            "  3.43072051 3.40251049 3.44949998]]\n",
            "(5, 9)\n",
            "float64\n"
          ]
        }
      ],
      "source": [
        "A = np.random.normal(3.5, 0.2, (5, 9))\n",
        "print(A)\n",
        "print(A.shape)\n",
        "print(A.dtype)"
      ],
      "metadata": {
        "id": "peW2vlGnCd86",
        "outputId": "b43a42c4-8f74-47d9-fe5b-4a8b427ad341"
      }
    },
    {
      "cell_type": "markdown",
      "source": [
        "### Exercise 6 (reshape an array)\n",
        "\n",
        "- Reshape the matrix `A` of samples drawn from the Gaussian distribution `N(3.5, 0.2)` to 1-dimensional array `b`.\n",
        "\n",
        "    - _Hint: shapes can be specified with tuples; examples of shapes are `(5, 9)` (2d), `(1,)` (1d), `()` (0d)_\n",
        "\n",
        "    - Make sure that the resulting shape of `b` is `(5*9, )` (why?) by printing the shape of `b`."
      ],
      "metadata": {
        "collapsed": false,
        "id": "sugipRNWCd86"
      }
    },
    {
      "cell_type": "code",
      "execution_count": null,
      "outputs": [
        {
          "name": "stdout",
          "output_type": "stream",
          "text": [
            "(45,)\n"
          ]
        }
      ],
      "source": [
        "b = A.reshape((5*9,))\n",
        "b = A.reshape(-1) # -1 is a special number that means \"figure out the size of this dimension for me\"\n",
        "print(b.shape)"
      ],
      "metadata": {
        "id": "xl8dRw__Cd86",
        "outputId": "29a6803e-170b-469b-a891-b6f51e00b502"
      }
    },
    {
      "cell_type": "markdown",
      "source": [
        "### Exercise 7 (statistics of an array)\n",
        "\n",
        "- Compute the mean and variance of all elements of `b`.\n",
        "\n",
        "    - **Hint**: look at the attributes of the [array class](https://numpy.org/doc/stable/reference/arrays.ndarray.html).\n",
        "\n",
        "    - What are you expecting these values to be?\n",
        "        - Be prepared to answer this question.\n",
        "\n",
        "- Do the same with `A`\n",
        "\n",
        "- Make sure that the mean and variance of `b` and `A` are the same by printing them.\n"
      ],
      "metadata": {
        "collapsed": false,
        "id": "Za8mmE0aCd86"
      }
    },
    {
      "cell_type": "code",
      "execution_count": null,
      "outputs": [
        {
          "name": "stdout",
          "output_type": "stream",
          "text": [
            "3.5058318007152662\n",
            "0.032818060006189684\n",
            "3.5058318007152662\n",
            "0.032818060006189684\n"
          ]
        }
      ],
      "source": [
        "m1 = b.mean()  # np.mean(b)\n",
        "v1 = b.var()\n",
        "m2 = A.mean()\n",
        "v2 = A.var()\n",
        "print(m1)\n",
        "print(v1)\n",
        "print(m2)\n",
        "print(v2)"
      ],
      "metadata": {
        "id": "OiOrLy8XCd86",
        "outputId": "8bf28191-e372-43b0-cc3b-df267b505ca8"
      }
    },
    {
      "cell_type": "markdown",
      "source": [
        "### Exercise 8 (check that 2 numbers are almost equal)\n",
        "\n",
        "- Use NumPy  [`isclose`](https://numpy.org/doc/stable/reference/generated/numpy.isclose.html) or [`allclose`](https://numpy.org/doc/stable/reference/generated/numpy.allclose.html) to check that the means and variances of `A` and `b` are indeed the same (or very close).\n",
        "\n",
        "- Is there any difference between `isclose` and `allclose`?"
      ],
      "metadata": {
        "collapsed": false,
        "id": "WlA8NgJnCd86"
      }
    },
    {
      "cell_type": "code",
      "execution_count": null,
      "outputs": [
        {
          "name": "stdout",
          "output_type": "stream",
          "text": [
            "True\n",
            "True\n",
            "True\n",
            "True\n"
          ]
        }
      ],
      "source": [
        "print(np.isclose(m1, m2))\n",
        "print(np.allclose(m1, m2))\n",
        "print(np.isclose(v1, v2))\n",
        "print(np.allclose(v1, v2))"
      ],
      "metadata": {
        "id": "qNOfNoj2Cd87",
        "outputId": "916b1bec-cc44-4afa-e377-221834aa7ad3"
      }
    },
    {
      "cell_type": "markdown",
      "source": [
        "### Exercise 9 (check that 2 arrays are almost equal)\n",
        "\n",
        "- Reshape `b` to the original shape `(5, 9)` and store the result in `A2`.\n",
        "\n",
        "- Use NumPy  [`isclose`](https://numpy.org/doc/stable/reference/generated/numpy.isclose.html) or [`allclose`](https://numpy.org/doc/stable/reference/generated/numpy.allclose.html) to check the arrays `A` and `A2` are indeed the same (or very close).\n",
        "\n",
        "- Is there any difference between `isclose` and `allclose` in this case?"
      ],
      "metadata": {
        "collapsed": false,
        "id": "effsOdwxCd87"
      }
    },
    {
      "cell_type": "code",
      "execution_count": null,
      "outputs": [
        {
          "name": "stdout",
          "output_type": "stream",
          "text": [
            "[[ True  True  True  True  True  True  True  True  True]\n",
            " [ True  True  True  True  True  True  True  True  True]\n",
            " [ True  True  True  True  True  True  True  True  True]\n",
            " [ True  True  True  True  True  True  True  True  True]\n",
            " [ True  True  True  True  True  True  True  True  True]]\n",
            "True\n"
          ]
        }
      ],
      "source": [
        "A2 = b.reshape((5, 9))\n",
        "print(np.isclose(A, A2))\n",
        "print(np.allclose(A, A2))"
      ],
      "metadata": {
        "id": "djiX2roOCd87",
        "outputId": "3ec8034f-c72a-4463-ebb5-9857ca389ec1"
      }
    },
    {
      "cell_type": "markdown",
      "source": [
        "### Exercise 10 (indexing and slicing)\n",
        "\n",
        "- Select the first 9 elements of `b` and store them in `c`.\n",
        "    - _Hint: in this case, the syntax is equal to the syntax used to index Python lists_\n",
        "\n",
        "- Select the first row of `A` and store it in `d`.\n",
        "\n",
        "- Make sure that the shape of `c` and `d` is `(9,)`.\n",
        "\n",
        "- Make sure that `c` and `d` are almost equal."
      ],
      "metadata": {
        "collapsed": false,
        "id": "jdiVp9o6Cd87"
      }
    },
    {
      "cell_type": "code",
      "execution_count": null,
      "outputs": [
        {
          "name": "stdout",
          "output_type": "stream",
          "text": [
            "(9,)\n",
            "(9,)\n",
            "True\n"
          ]
        }
      ],
      "source": [
        "c = b[:9] # This syntax is exactly the same as indexing/slicing a list\n",
        "d = A[0, :] # This syntax is different than indexing a list of lists, which would be A[0][:]\n",
        "print(c.shape)\n",
        "print(d.shape)\n",
        "print(np.allclose(c, d))"
      ],
      "metadata": {
        "id": "EEbZ9UHlCd87",
        "outputId": "a8759d3e-4f91-47fb-b647-cb7b32647973"
      }
    },
    {
      "cell_type": "markdown",
      "source": [
        "### Exercise 11 (Observe the side effects)\n",
        "\n",
        "- Set the first element of `c` to `7`, and observe the side effects in `A` by printing `A`."
      ],
      "metadata": {
        "collapsed": false,
        "id": "CmiAh2jYCd87"
      }
    },
    {
      "cell_type": "code",
      "execution_count": null,
      "outputs": [
        {
          "name": "stdout",
          "output_type": "stream",
          "text": [
            "[7.         3.66743455 3.42244499 3.37558155 3.4184766  3.53903199\n",
            " 3.56585021 3.70558828 3.63086801]\n",
            "[[7.         3.66743455 3.42244499 3.37558155 3.4184766  3.53903199\n",
            "  3.56585021 3.70558828 3.63086801]\n",
            " [3.55571655 3.70353952 3.5491389  3.3622999  3.53998555 3.63233974\n",
            "  3.57705029 3.85337897 3.62557826]\n",
            " [3.26403078 3.75671655 3.65061531 3.47504024 3.85541362 3.48684897\n",
            "  3.61031538 3.40393629 3.24487635]\n",
            " [3.56807273 3.58821055 3.16919931 3.53280505 3.2983808  3.53453725\n",
            "  3.52694349 3.21766203 3.33664334]\n",
            " [3.69239464 3.53274893 3.07188796 3.44746202 3.90790317 3.26755169\n",
            "  3.43072051 3.40251049 3.44949998]]\n"
          ]
        }
      ],
      "source": [
        "c[0] = 7\n",
        "print(c)\n",
        "print(A)"
      ],
      "metadata": {
        "id": "wrvQ4a-rCd87",
        "outputId": "c9129277-41d3-41ac-e1d4-52c11dae6915"
      }
    },
    {
      "cell_type": "markdown",
      "source": [
        "### Exercise 12 (Avoid the side effects by making copies)\n",
        "\n",
        "- Make a copy of `c` and store it in `e`.\n",
        "\n",
        "- Set the first element of `e` to `10`.\n",
        "    - Are there any side effects in `c` and `A`?"
      ],
      "metadata": {
        "collapsed": false,
        "id": "4nEP0TnJCd87"
      }
    },
    {
      "cell_type": "code",
      "execution_count": null,
      "outputs": [
        {
          "name": "stdout",
          "output_type": "stream",
          "text": [
            "[10.          3.66743455  3.42244499  3.37558155  3.4184766   3.53903199\n",
            "  3.56585021  3.70558828  3.63086801]\n",
            "[7.         3.66743455 3.42244499 3.37558155 3.4184766  3.53903199\n",
            " 3.56585021 3.70558828 3.63086801]\n",
            "[[7.         3.66743455 3.42244499 3.37558155 3.4184766  3.53903199\n",
            "  3.56585021 3.70558828 3.63086801]\n",
            " [3.55571655 3.70353952 3.5491389  3.3622999  3.53998555 3.63233974\n",
            "  3.57705029 3.85337897 3.62557826]\n",
            " [3.26403078 3.75671655 3.65061531 3.47504024 3.85541362 3.48684897\n",
            "  3.61031538 3.40393629 3.24487635]\n",
            " [3.56807273 3.58821055 3.16919931 3.53280505 3.2983808  3.53453725\n",
            "  3.52694349 3.21766203 3.33664334]\n",
            " [3.69239464 3.53274893 3.07188796 3.44746202 3.90790317 3.26755169\n",
            "  3.43072051 3.40251049 3.44949998]]\n"
          ]
        }
      ],
      "source": [
        "e = c.copy()\n",
        "e[0] = 10\n",
        "print(e)\n",
        "print(c)\n",
        "print(A)"
      ],
      "metadata": {
        "id": "UvgRNXuQCd87",
        "outputId": "58fc66ef-2bc1-48a4-8bd7-3d7a15d737eb"
      }
    },
    {
      "cell_type": "markdown",
      "source": [
        "### Exercise 13 (transpose of a matrix)\n",
        "\n",
        "- Compute the transpose of `A` and print the result"
      ],
      "metadata": {
        "collapsed": false,
        "id": "GiIuCVs4Cd88"
      }
    },
    {
      "cell_type": "code",
      "execution_count": null,
      "outputs": [
        {
          "name": "stdout",
          "output_type": "stream",
          "text": [
            "[[7.         3.55571655 3.26403078 3.56807273 3.69239464]\n",
            " [3.66743455 3.70353952 3.75671655 3.58821055 3.53274893]\n",
            " [3.42244499 3.5491389  3.65061531 3.16919931 3.07188796]\n",
            " [3.37558155 3.3622999  3.47504024 3.53280505 3.44746202]\n",
            " [3.4184766  3.53998555 3.85541362 3.2983808  3.90790317]\n",
            " [3.53903199 3.63233974 3.48684897 3.53453725 3.26755169]\n",
            " [3.56585021 3.57705029 3.61031538 3.52694349 3.43072051]\n",
            " [3.70558828 3.85337897 3.40393629 3.21766203 3.40251049]\n",
            " [3.63086801 3.62557826 3.24487635 3.33664334 3.44949998]]\n",
            "[[7.         3.55571655 3.26403078 3.56807273 3.69239464]\n",
            " [3.66743455 3.70353952 3.75671655 3.58821055 3.53274893]\n",
            " [3.42244499 3.5491389  3.65061531 3.16919931 3.07188796]\n",
            " [3.37558155 3.3622999  3.47504024 3.53280505 3.44746202]\n",
            " [3.4184766  3.53998555 3.85541362 3.2983808  3.90790317]\n",
            " [3.53903199 3.63233974 3.48684897 3.53453725 3.26755169]\n",
            " [3.56585021 3.57705029 3.61031538 3.52694349 3.43072051]\n",
            " [3.70558828 3.85337897 3.40393629 3.21766203 3.40251049]\n",
            " [3.63086801 3.62557826 3.24487635 3.33664334 3.44949998]]\n"
          ]
        }
      ],
      "source": [
        "print(A.T)\n",
        "print(A.transpose())"
      ],
      "metadata": {
        "id": "fUZCKhByCd88",
        "outputId": "213405d8-517a-4990-d481-668709016c7d"
      }
    },
    {
      "cell_type": "markdown",
      "source": [
        "### Exercise 14 (matrix multiplication)\n",
        "\n",
        "- Multiply `A` and its transpose and save the result in `C`\n",
        "- What is the shape of `C`, and why?\n"
      ],
      "metadata": {
        "collapsed": false,
        "id": "xBJga1whCd88"
      }
    },
    {
      "cell_type": "code",
      "execution_count": null,
      "outputs": [
        {
          "name": "stdout",
          "output_type": "stream",
          "text": [
            "(5, 5)\n"
          ]
        }
      ],
      "source": [
        "C = np.dot(A, A.T)\n",
        "print(C.shape)"
      ],
      "metadata": {
        "id": "ROqXKMiqCd88",
        "outputId": "d82e0821-9d6b-408f-fa8b-1443302d4cf4"
      }
    },
    {
      "cell_type": "markdown",
      "source": [
        "### Exercise 15 (diagonal elements of a matrix)\n",
        "\n",
        "- Compute the diagonal elements of `C` and store there the result in `D`\n",
        "- What is the shape of the returned array, and why?"
      ],
      "metadata": {
        "collapsed": false,
        "id": "NKDC8Oc4Cd88"
      }
    },
    {
      "cell_type": "code",
      "execution_count": null,
      "outputs": [
        {
          "name": "stdout",
          "output_type": "stream",
          "text": [
            "True\n",
            "True\n",
            "(5,)\n"
          ]
        }
      ],
      "source": [
        "D = C.diagonal()\n",
        "D = np.diagonal(C)\n",
        "D = np.diag(C)\n",
        "print(np.allclose(np.diagonal(C), C.diagonal()))\n",
        "print(np.allclose(np.diagonal(C), np.diag(C)))\n",
        "print(D.shape)"
      ],
      "metadata": {
        "id": "JfOMCP1rCd88",
        "outputId": "683dff48-8473-4c18-c0bd-3f99e25b2a8e"
      }
    },
    {
      "cell_type": "markdown",
      "source": [
        "### Exercise 16 (broadcasting)\n",
        "\n",
        "- Multiply `2` by `C` and observe the results"
      ],
      "metadata": {
        "collapsed": false,
        "id": "hB899PqSCd88"
      }
    },
    {
      "cell_type": "code",
      "execution_count": null,
      "outputs": [
        {
          "name": "stdout",
          "output_type": "stream",
          "text": [
            "[[298.79672236 254.24707345 247.2777973  242.61358155 246.48581563]\n",
            " [254.24707345 233.54959671 228.53760527 221.45892186 224.59795034]\n",
            " [247.2777973  228.53760527 224.68484963 217.05293235 220.2782636 ]\n",
            " [242.61358155 221.45892186 217.05293235 210.85814267 213.52497864]\n",
            " [246.48581563 224.59795034 220.2782636  213.52497864 217.26031082]]\n"
          ]
        }
      ],
      "source": [
        "print(C * 2)"
      ],
      "metadata": {
        "id": "LJrImoP3Cd88",
        "outputId": "02608f42-a833-4703-df78-8635de74e837"
      }
    },
    {
      "cell_type": "markdown",
      "metadata": {
        "id": "_UlI7Mz43UEM"
      },
      "source": [
        "## Resources\n",
        "\n",
        "- Python docs: [https://docs.python.org/](https://docs.python.org/)\n",
        "- [Python cheat sheet](https://perso.limsi.fr/pointal/_media/python:cours:mementopython3-english.pdf)\n",
        "- Numpy docs: [https://docs.scipy.org/doc/numpy/](https://docs.scipy.org/doc/numpy/)\n",
        "- [Cheat sheet for several scientific libraries](https://github.com/kailashahirwar/cheatsheets-ai/) (AI-oriented)\n",
        "\n",
        "There many tutorials on the web on NumPy. Here are only a few of the references that I would suggest that you take a look at, if you have some time.\n",
        "\n",
        "- [What is NumPy?](https://numpy.org/doc/stable/user/whatisnumpy.html)\n",
        "- [NumPy quickstart](https://numpy.org/doc/stable/user/quickstart.html)\n",
        "- [NumPy: the absolute basics for beginners](https://numpy.org/doc/stable/user/absolute_beginners.html)\n",
        "- [NumPy Reference](https://numpy.org/doc/stable/reference/) (the documentation)\n",
        "\n",
        "Of course, you can also use:\n",
        "\n",
        "- [Google](https://www.google.ch/)\n",
        "- [Stack Overflow](https://stackoverflow.com/questions/tagged/numpy)\n",
        "    - [Cross Validated Stack Exchange](https://stats.stackexchange.com/)\n",
        "    - [Artificial Intelligence Stack Exchange](https://ai.stackexchange.com/) (I am a [moderator](https://ai.stackexchange.com/users/2444/nbro) on this site, by the way :)\n",
        "    - [Data Science Stack Exchange](https://datascience.stackexchange.com/)\n"
      ]
    },
    {
      "cell_type": "markdown",
      "source": [
        "# Related libraries\n",
        "\n",
        "There are other libraries (some of them use NumPy) that you will come across in the context of machine learning, such as\n",
        "\n",
        "- [TensorFlow](https://www.tensorflow.org/), [Keras](https://www.tensorflow.org/api_docs/python/tf/keras/layers) and [PyTorch](https://pytorch.org/) (for neural networks and other ML models)\n",
        "- [scikit-learn](https://scikit-learn.org/stable/) (aka, sklearn, which is a general ML library)\n",
        "- [Matplotlib](https://matplotlib.org/) (for plotting)\n",
        "- [Pandas](https://pandas.pydata.org/) (for data manipulation)\n",
        "- [Seaborn](https://seaborn.pydata.org/) (for plotting)\n",
        "- [OpenCV](https://opencv.org/) (for image processing and computer vision)"
      ],
      "metadata": {
        "collapsed": false,
        "id": "uFMYopLFCd89"
      }
    },
    {
      "cell_type": "markdown",
      "source": [
        "# [Google Colaboratory](https://research.google.com/colaboratory/faq.html) (aka colab)\n",
        "\n",
        "## Some tricks and tips\n",
        "\n",
        "- [2 types of cells](https://colab.research.google.com/notebooks/basic_features_overview.ipynb):\n",
        "    1. code\n",
        "    2. [text](https://colab.research.google.com/notebooks/markdown_guide.ipynb)\n",
        "\n",
        "- <kbd>Shift</kbd> + <kbd>Enter</kbd> [to execute the content of a cell](https://colab.research.google.com/notebooks/basic_features_overview.ipynb)\n",
        "\n",
        "- <kbd>CTRL</kbd> + hover the symbol: to see the documentation of a method, class, etc.\n",
        "- <kbd>CTRL</kbd> + click on the symbol, then click to to definition to see the definition/code\n",
        "\n",
        "- To train neural networks with GPU and TPUs (which can be a lot faster than training with CPUs), go to `Runtime` menu, then click on `Change runtime type`, then choose e.g. GPU/TPU\n",
        "    - This may be useful later, but not really now\n",
        "\n",
        "- [You have only a limited number of time in Colab, then the session may end (and unexpectedly!)](https://research.google.com/colaboratory/faq.html)\n",
        "\n",
        "- [You can load data from your Google Drive or Github](https://colab.research.google.com/notebooks/io.ipynb)\n",
        "\n",
        "- [You can clone a Github repository into the file system of the VM used in Colab](https://stackoverflow.com/a/58395920/3924118), then you can execute code from that repo from within Colab\n",
        "\n",
        "- Google Colab typically already comes with many Python libraries installed, including NumPy, but sometimes you need to install your needed libraries\n",
        "\n",
        "- Python statements are treated differently than shell/terminal commands\n",
        "    - [What is the meaning of exclamation and question marks in Jupyter notebook?](https://stackoverflow.com/q/53498226/3924118)\n",
        "    - [What is the difference between ! and % in Jupyter notebooks?](https://stackoverflow.com/q/45784499/3924118)\n",
        "\n",
        "- See [this](https://colab.research.google.com/notebooks/) for more info\n"
      ],
      "metadata": {
        "collapsed": false,
        "id": "kEW7_CuKCd89"
      }
    },
    {
      "cell_type": "markdown",
      "source": [
        "# Where to code?\n",
        "\n",
        "I recommend the [IDE](https://en.wikipedia.org/wiki/Integrated_development_environment) [PyCharm](https://www.jetbrains.com/pycharm/) (there's a community edition that is free, but, given that you're a student, you can get access to the full IDE by subscribing as a student). To quickly edit code, [Visual Studio Code](https://code.visualstudio.com/) is also quite neat. Of course, you can also use Google Colab or Jupyter notebooks, especially when a notebook is required, rather than a Python module (which ends with `.py` rather than `.ipynb`, like this notebook)."
      ],
      "metadata": {
        "collapsed": false,
        "id": "P0tFEm1XCd89"
      }
    }
  ],
  "metadata": {
    "colab": {
      "collapsed_sections": [
        "leVVvmzGKzns",
        "A7Tzcab-Llq0",
        "Mjku9FI9LxDn",
        "axKu1SmiMH_N",
        "UU9pJprHMM7W",
        "4Bwb_OORNJf1",
        "C80a9yVyPXOd",
        "rQjgtDHESVru",
        "5DWwQO0HRWb3",
        "bmlB1JnFa-H_"
      ],
      "provenance": []
    },
    "kernelspec": {
      "display_name": "Python 3 (ipykernel)",
      "language": "python",
      "name": "python3"
    },
    "language_info": {
      "codemirror_mode": {
        "name": "ipython",
        "version": 3
      },
      "file_extension": ".py",
      "mimetype": "text/x-python",
      "name": "python",
      "nbconvert_exporter": "python",
      "pygments_lexer": "ipython3",
      "version": "3.7.11"
    },
    "pycharm": {
      "stem_cell": {
        "cell_type": "raw",
        "metadata": {
          "collapsed": false
        },
        "source": []
      }
    }
  },
  "nbformat": 4,
  "nbformat_minor": 0
}